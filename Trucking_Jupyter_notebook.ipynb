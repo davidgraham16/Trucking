{
 "cells": [
  {
   "cell_type": "code",
   "execution_count": 68,
   "metadata": {
    "collapsed": false
   },
   "outputs": [],
   "source": [
    "import pandas as pd\n",
    "import datetime as dt\n",
    "import numpy as np\n",
    "\n",
    "## read in data\n",
    "#gps = pd.read_csv('GPS_data.csv')\n",
    "# Locations = pd.read_csv('Locations.csv')\n",
    "gps = pd.read_csv('/Users/angiebatch/Documents/Doyle/GPS_data/GPS_data.csv')\n",
    "Locations = pd.read_csv('/Users/angiebatch/Documents/Doyle/GPS_data/Locations.csv')"
   ]
  },
  {
   "cell_type": "code",
   "execution_count": 69,
   "metadata": {
    "collapsed": false,
    "scrolled": false
   },
   "outputs": [
    {
     "data": {
      "text/html": [
       "<div>\n",
       "<table border=\"1\" class=\"dataframe\">\n",
       "  <thead>\n",
       "    <tr style=\"text-align: right;\">\n",
       "      <th></th>\n",
       "      <th>Locations</th>\n",
       "    </tr>\n",
       "  </thead>\n",
       "  <tbody>\n",
       "    <tr>\n",
       "      <th>0</th>\n",
       "      <td>HM_01</td>\n",
       "    </tr>\n",
       "    <tr>\n",
       "      <th>1</th>\n",
       "      <td>Kyle_01</td>\n",
       "    </tr>\n",
       "    <tr>\n",
       "      <th>2</th>\n",
       "      <td>Kyle_02</td>\n",
       "    </tr>\n",
       "    <tr>\n",
       "      <th>3</th>\n",
       "      <td>Kyle_03</td>\n",
       "    </tr>\n",
       "    <tr>\n",
       "      <th>4</th>\n",
       "      <td>Kyle_04</td>\n",
       "    </tr>\n",
       "    <tr>\n",
       "      <th>5</th>\n",
       "      <td>Kyle_05</td>\n",
       "    </tr>\n",
       "    <tr>\n",
       "      <th>6</th>\n",
       "      <td>R_01</td>\n",
       "    </tr>\n",
       "    <tr>\n",
       "      <th>7</th>\n",
       "      <td>R_02</td>\n",
       "    </tr>\n",
       "    <tr>\n",
       "      <th>8</th>\n",
       "      <td>R_03</td>\n",
       "    </tr>\n",
       "    <tr>\n",
       "      <th>9</th>\n",
       "      <td>R_04</td>\n",
       "    </tr>\n",
       "    <tr>\n",
       "      <th>10</th>\n",
       "      <td>R_05</td>\n",
       "    </tr>\n",
       "    <tr>\n",
       "      <th>11</th>\n",
       "      <td>R_07</td>\n",
       "    </tr>\n",
       "  </tbody>\n",
       "</table>\n",
       "</div>"
      ],
      "text/plain": [
       "   Locations\n",
       "0      HM_01\n",
       "1    Kyle_01\n",
       "2    Kyle_02\n",
       "3    Kyle_03\n",
       "4    Kyle_04\n",
       "5    Kyle_05\n",
       "6       R_01\n",
       "7       R_02\n",
       "8       R_03\n",
       "9       R_04\n",
       "10      R_05\n",
       "11      R_07"
      ]
     },
     "execution_count": 69,
     "metadata": {},
     "output_type": "execute_result"
    }
   ],
   "source": [
    "Locations"
   ]
  },
  {
   "cell_type": "code",
   "execution_count": 71,
   "metadata": {
    "collapsed": false
   },
   "outputs": [
    {
     "data": {
      "text/html": [
       "<div>\n",
       "<table border=\"1\" class=\"dataframe\">\n",
       "  <thead>\n",
       "    <tr style=\"text-align: right;\">\n",
       "      <th></th>\n",
       "      <th>﻿Date</th>\n",
       "      <th>Time</th>\n",
       "      <th>Name</th>\n",
       "      <th>Location</th>\n",
       "      <th>City</th>\n",
       "      <th>St</th>\n",
       "      <th>Zip</th>\n",
       "      <th>Latitude</th>\n",
       "      <th>Longitude</th>\n",
       "      <th>Distance</th>\n",
       "      <th>Speed</th>\n",
       "      <th>Heading</th>\n",
       "      <th>Flags</th>\n",
       "    </tr>\n",
       "  </thead>\n",
       "  <tbody>\n",
       "    <tr>\n",
       "      <th>0</th>\n",
       "      <td>3/1/2016 12:00 AM to 3/2/2016 12:00 AM</td>\n",
       "      <td>6:15:09 AM EST</td>\n",
       "      <td>-</td>\n",
       "      <td>R_05</td>\n",
       "      <td>Hollywood</td>\n",
       "      <td>FL</td>\n",
       "      <td>33019</td>\n",
       "      <td>26.024026</td>\n",
       "      <td>-80.133256</td>\n",
       "      <td>0.0</td>\n",
       "      <td>0</td>\n",
       "      <td>N (0°)</td>\n",
       "      <td>G-------</td>\n",
       "    </tr>\n",
       "    <tr>\n",
       "      <th>1</th>\n",
       "      <td>3/1/2016 12:00 AM to 3/2/2016 12:00 AM</td>\n",
       "      <td>6:15:57 AM EST</td>\n",
       "      <td>-</td>\n",
       "      <td>R_05</td>\n",
       "      <td>Hollywood</td>\n",
       "      <td>FL</td>\n",
       "      <td>33019</td>\n",
       "      <td>26.024056</td>\n",
       "      <td>-80.133304</td>\n",
       "      <td>0.0</td>\n",
       "      <td>0</td>\n",
       "      <td>N (0°)</td>\n",
       "      <td>G----I--</td>\n",
       "    </tr>\n",
       "    <tr>\n",
       "      <th>2</th>\n",
       "      <td>3/1/2016 12:00 AM to 3/2/2016 12:00 AM</td>\n",
       "      <td>6:32:02 AM EST</td>\n",
       "      <td>-</td>\n",
       "      <td>R_05</td>\n",
       "      <td>Hollywood</td>\n",
       "      <td>FL</td>\n",
       "      <td>33019</td>\n",
       "      <td>26.023956</td>\n",
       "      <td>-80.133328</td>\n",
       "      <td>0.0</td>\n",
       "      <td>0</td>\n",
       "      <td>N (0°)</td>\n",
       "      <td>G-------</td>\n",
       "    </tr>\n",
       "    <tr>\n",
       "      <th>3</th>\n",
       "      <td>3/1/2016 12:00 AM to 3/2/2016 12:00 AM</td>\n",
       "      <td>6:33:41 AM EST</td>\n",
       "      <td>-</td>\n",
       "      <td>R_05</td>\n",
       "      <td>Hollywood</td>\n",
       "      <td>FL</td>\n",
       "      <td>33019</td>\n",
       "      <td>26.023956</td>\n",
       "      <td>-80.133328</td>\n",
       "      <td>0.0</td>\n",
       "      <td>0</td>\n",
       "      <td>N (0°)</td>\n",
       "      <td>G----I--</td>\n",
       "    </tr>\n",
       "    <tr>\n",
       "      <th>4</th>\n",
       "      <td>3/1/2016 12:00 AM to 3/2/2016 12:00 AM</td>\n",
       "      <td>6:43:47 AM EST</td>\n",
       "      <td>-</td>\n",
       "      <td>R_05</td>\n",
       "      <td>Hollywood</td>\n",
       "      <td>FL</td>\n",
       "      <td>33019</td>\n",
       "      <td>26.023946</td>\n",
       "      <td>-80.133344</td>\n",
       "      <td>0.0</td>\n",
       "      <td>0</td>\n",
       "      <td>N (0°)</td>\n",
       "      <td>G-------</td>\n",
       "    </tr>\n",
       "  </tbody>\n",
       "</table>\n",
       "</div>"
      ],
      "text/plain": [
       "                                    ﻿Date            Time Name Location  \\\n",
       "0  3/1/2016 12:00 AM to 3/2/2016 12:00 AM  6:15:09 AM EST    -     R_05   \n",
       "1  3/1/2016 12:00 AM to 3/2/2016 12:00 AM  6:15:57 AM EST    -     R_05   \n",
       "2  3/1/2016 12:00 AM to 3/2/2016 12:00 AM  6:32:02 AM EST    -     R_05   \n",
       "3  3/1/2016 12:00 AM to 3/2/2016 12:00 AM  6:33:41 AM EST    -     R_05   \n",
       "4  3/1/2016 12:00 AM to 3/2/2016 12:00 AM  6:43:47 AM EST    -     R_05   \n",
       "\n",
       "        City   St    Zip   Latitude  Longitude  Distance  Speed Heading  \\\n",
       "0  Hollywood  FL   33019  26.024026 -80.133256       0.0      0  N (0°)   \n",
       "1  Hollywood  FL   33019  26.024056 -80.133304       0.0      0  N (0°)   \n",
       "2  Hollywood  FL   33019  26.023956 -80.133328       0.0      0  N (0°)   \n",
       "3  Hollywood  FL   33019  26.023956 -80.133328       0.0      0  N (0°)   \n",
       "4  Hollywood  FL   33019  26.023946 -80.133344       0.0      0  N (0°)   \n",
       "\n",
       "      Flags  \n",
       "0  G-------  \n",
       "1  G----I--  \n",
       "2  G-------  \n",
       "3  G----I--  \n",
       "4  G-------  "
      ]
     },
     "execution_count": 71,
     "metadata": {},
     "output_type": "execute_result"
    }
   ],
   "source": [
    "gps.head()"
   ]
  },
  {
   "cell_type": "code",
   "execution_count": null,
   "metadata": {
    "collapsed": true
   },
   "outputs": [],
   "source": []
  },
  {
   "cell_type": "code",
   "execution_count": 72,
   "metadata": {
    "collapsed": false,
    "scrolled": true
   },
   "outputs": [],
   "source": [
    "## Move City, State, and Zip to Locations dataframe\n",
    "Locations = pd.merge(Locations, gps[['Location','City','St','Zip']], \n",
    "                     left_on='Locations', right_on='Location')\n",
    "Locations = Locations.drop_duplicates(['Location','City','St'])\n",
    "\n",
    "Locations = Locations.iloc[:,1:]\n"
   ]
  },
  {
   "cell_type": "code",
   "execution_count": 73,
   "metadata": {
    "collapsed": false,
    "scrolled": true
   },
   "outputs": [
    {
     "data": {
      "text/html": [
       "<div>\n",
       "<table border=\"1\" class=\"dataframe\">\n",
       "  <thead>\n",
       "    <tr style=\"text-align: right;\">\n",
       "      <th></th>\n",
       "      <th>Location</th>\n",
       "      <th>City</th>\n",
       "      <th>St</th>\n",
       "      <th>Zip</th>\n",
       "    </tr>\n",
       "  </thead>\n",
       "  <tbody>\n",
       "    <tr>\n",
       "      <th>0</th>\n",
       "      <td>HM_01</td>\n",
       "      <td>Davie</td>\n",
       "      <td>FL</td>\n",
       "      <td>33314</td>\n",
       "    </tr>\n",
       "    <tr>\n",
       "      <th>21</th>\n",
       "      <td>R_01</td>\n",
       "      <td>Okeechobee</td>\n",
       "      <td>FL</td>\n",
       "      <td>34972</td>\n",
       "    </tr>\n",
       "    <tr>\n",
       "      <th>63</th>\n",
       "      <td>R_02</td>\n",
       "      <td>South Bay</td>\n",
       "      <td>FL</td>\n",
       "      <td>33493</td>\n",
       "    </tr>\n",
       "    <tr>\n",
       "      <th>68</th>\n",
       "      <td>R_03</td>\n",
       "      <td>Belle Glade</td>\n",
       "      <td>FL</td>\n",
       "      <td>33430</td>\n",
       "    </tr>\n",
       "    <tr>\n",
       "      <th>276</th>\n",
       "      <td>R_04</td>\n",
       "      <td>Fort Lauderdale</td>\n",
       "      <td>FL</td>\n",
       "      <td>33316</td>\n",
       "    </tr>\n",
       "    <tr>\n",
       "      <th>292</th>\n",
       "      <td>R_05</td>\n",
       "      <td>Hollywood</td>\n",
       "      <td>FL</td>\n",
       "      <td>33019</td>\n",
       "    </tr>\n",
       "  </tbody>\n",
       "</table>\n",
       "</div>"
      ],
      "text/plain": [
       "    Location             City   St    Zip\n",
       "0      HM_01            Davie  FL   33314\n",
       "21      R_01       Okeechobee  FL   34972\n",
       "63      R_02        South Bay  FL   33493\n",
       "68      R_03      Belle Glade  FL   33430\n",
       "276     R_04  Fort Lauderdale  FL   33316\n",
       "292     R_05        Hollywood  FL   33019"
      ]
     },
     "execution_count": 73,
     "metadata": {},
     "output_type": "execute_result"
    }
   ],
   "source": [
    "Locations"
   ]
  },
  {
   "cell_type": "code",
   "execution_count": 74,
   "metadata": {
    "collapsed": false
   },
   "outputs": [],
   "source": [
    "## Drop Name, City, State, Zip, Lat, Lon, Speed, Heading, and Flags from gps\n",
    "gps = gps.iloc[:,[0,1,3,9]]"
   ]
  },
  {
   "cell_type": "code",
   "execution_count": 75,
   "metadata": {
    "collapsed": false,
    "scrolled": true
   },
   "outputs": [
    {
     "data": {
      "text/html": [
       "<div>\n",
       "<table border=\"1\" class=\"dataframe\">\n",
       "  <thead>\n",
       "    <tr style=\"text-align: right;\">\n",
       "      <th></th>\n",
       "      <th>﻿Date</th>\n",
       "      <th>Time</th>\n",
       "      <th>Location</th>\n",
       "      <th>Distance</th>\n",
       "    </tr>\n",
       "  </thead>\n",
       "  <tbody>\n",
       "    <tr>\n",
       "      <th>0</th>\n",
       "      <td>3/1/2016 12:00 AM to 3/2/2016 12:00 AM</td>\n",
       "      <td>6:15:09 AM EST</td>\n",
       "      <td>R_05</td>\n",
       "      <td>0.0</td>\n",
       "    </tr>\n",
       "    <tr>\n",
       "      <th>1</th>\n",
       "      <td>3/1/2016 12:00 AM to 3/2/2016 12:00 AM</td>\n",
       "      <td>6:15:57 AM EST</td>\n",
       "      <td>R_05</td>\n",
       "      <td>0.0</td>\n",
       "    </tr>\n",
       "    <tr>\n",
       "      <th>2</th>\n",
       "      <td>3/1/2016 12:00 AM to 3/2/2016 12:00 AM</td>\n",
       "      <td>6:32:02 AM EST</td>\n",
       "      <td>R_05</td>\n",
       "      <td>0.0</td>\n",
       "    </tr>\n",
       "    <tr>\n",
       "      <th>3</th>\n",
       "      <td>3/1/2016 12:00 AM to 3/2/2016 12:00 AM</td>\n",
       "      <td>6:33:41 AM EST</td>\n",
       "      <td>R_05</td>\n",
       "      <td>0.0</td>\n",
       "    </tr>\n",
       "    <tr>\n",
       "      <th>4</th>\n",
       "      <td>3/1/2016 12:00 AM to 3/2/2016 12:00 AM</td>\n",
       "      <td>6:43:47 AM EST</td>\n",
       "      <td>R_05</td>\n",
       "      <td>0.0</td>\n",
       "    </tr>\n",
       "  </tbody>\n",
       "</table>\n",
       "</div>"
      ],
      "text/plain": [
       "                                    ﻿Date            Time Location  Distance\n",
       "0  3/1/2016 12:00 AM to 3/2/2016 12:00 AM  6:15:09 AM EST     R_05       0.0\n",
       "1  3/1/2016 12:00 AM to 3/2/2016 12:00 AM  6:15:57 AM EST     R_05       0.0\n",
       "2  3/1/2016 12:00 AM to 3/2/2016 12:00 AM  6:32:02 AM EST     R_05       0.0\n",
       "3  3/1/2016 12:00 AM to 3/2/2016 12:00 AM  6:33:41 AM EST     R_05       0.0\n",
       "4  3/1/2016 12:00 AM to 3/2/2016 12:00 AM  6:43:47 AM EST     R_05       0.0"
      ]
     },
     "execution_count": 75,
     "metadata": {},
     "output_type": "execute_result"
    }
   ],
   "source": [
    "gps.head()"
   ]
  },
  {
   "cell_type": "code",
   "execution_count": null,
   "metadata": {
    "collapsed": true
   },
   "outputs": [],
   "source": []
  }
 ],
 "metadata": {
  "anaconda-cloud": {},
  "kernelspec": {
   "display_name": "Python [Root]",
   "language": "python",
   "name": "Python [Root]"
  },
  "language_info": {
   "codemirror_mode": {
    "name": "ipython",
    "version": 3
   },
   "file_extension": ".py",
   "mimetype": "text/x-python",
   "name": "python",
   "nbconvert_exporter": "python",
   "pygments_lexer": "ipython3",
   "version": "3.5.2"
  }
 },
 "nbformat": 4,
 "nbformat_minor": 0
}
